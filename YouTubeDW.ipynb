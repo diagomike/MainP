{
  "nbformat": 4,
  "nbformat_minor": 0,
  "metadata": {
    "colab": {
      "provenance": [],
      "mount_file_id": "147lq4-jk1bkWsN8vCQYqW8xo4Aunvk2l",
      "authorship_tag": "ABX9TyO6pn+4f2nkZQ3UlSgOhP4l",
      "include_colab_link": true
    },
    "kernelspec": {
      "name": "python3",
      "display_name": "Python 3"
    },
    "language_info": {
      "name": "python"
    }
  },
  "cells": [
    {
      "cell_type": "markdown",
      "metadata": {
        "id": "view-in-github",
        "colab_type": "text"
      },
      "source": [
        "<a href=\"https://colab.research.google.com/github/diagomike/MainP/blob/master/YouTubeDW.ipynb\" target=\"_parent\"><img src=\"https://colab.research.google.com/assets/colab-badge.svg\" alt=\"Open In Colab\"/></a>"
      ]
    },
    {
      "cell_type": "markdown",
      "source": [
        "You can specify the download location and resolution when downloading videos from a YouTube playlist using the `pytube` library. Here is an example of how to do this:\n",
        "\n",
        "In this code, we iterate over the videos in the playlist using a `for` loop. For each video, we use the `streams.filter()` method to filter the available streams by resolution (in this case, we are selecting streams with a resolution of 720p). We then use the `first()` method to select the first stream that matches our filter criteria and call the `download()` method to download the video. The `download()` method takes an optional `output_path` argument that specifies the location where the video should be downloaded.\n",
        "\n",
        "Please note that this code is just an example and may need to be modified to fit your specific needs. Also, keep in mind that the `pytube` library may have been updated since this code was written and some methods may have changed.\n",
        "\n",
        "Is there anything else you would like to know?"
      ],
      "metadata": {
        "id": "gUXb9WCbO7iU"
      }
    },
    {
      "cell_type": "markdown",
      "source": [
        "1# Praise Night [14] https://www.youtube.com/playlist?list=OLAK5uy_mWxMbaj1YgITtoOdpYMR-thHDLsapeH-8  \n",
        "2# Healing Songs [16] https://www.youtube.com/playlist?list=OLAK5uy_neABXq1eq27erjdQF2WEB4VBYrf70SrSg  \n",
        "3# You Sit Above the Cherubim [17] https://www.youtube.com/playlist?list=OLAK5uy_n1oavrvTnF7EafGwwlbhDbScNZzxC7v-M  \n",
        "4# Able God [8] https://www.youtube.com/playlist?list=OLAK5uy_nOifZnhmLWjSxl2Uz8wiijHx53DglSBII  \n",
        "5# 2023 New Year's Eve [9] https://www.youtube.com/playlist?list=OLAK5uy_k71xHs7p02IsiH-nQbmnMi94KSCLXXDzE  \n",
        "6# Lord over All [22] https://www.youtube.com/playlist?list=OLAK5uy_mxCx4W00OqAVj_hIUnmhg2hBGVS9A4-Mw  \n",
        "7# God of All Comfort [13] https://www.youtube.com/playlist?list=OLAK5uy_kwnPeM43nkPGrWQ4Ymk5vNq3_3B0cKun8  \n",
        "8# You Are the Lord [17] https://www.youtube.com/playlist?list=OLAK5uy_l9aOLvfRVXYbyQebAMTT1SNHyxpn0svr0  \n",
        "9# Unending Praise [19] https://www.youtube.com/playlist?list=OLAK5uy_nu7Rj0Zgz5YhwVcpOir0m012Rjc3qoMeo  \n",
        "10# Mighty is Our King [19] https://www.youtube.com/playlist?list=OLAK5uy_mLvyht0YYPLq9wMMztdRwq6W9LRBKESvE  \n",
        "  \n",
        "  11# Loveworld New Songs 2022 [13] https://www.youtube.com/playlist?list=PLVOwIn5CIhODvjph9Q12jqsZsF6gwccBD  \n",
        "12# Sing A New Song [13] https://www.youtube.com/playlist?list=PLVOwIn5CIhOCfSqCsc26-L38t-VmwDIVL  \n",
        "13# Loveworld Best Songs 2021 [10] https://www.youtube.com/playlist?list=OLAK5uy_lhaRpa5JLR3Fs7P97DBqJ54eSohxDI1hw"
      ],
      "metadata": {
        "id": "8HK56ijkfWwD"
      }
    },
    {
      "cell_type": "code",
      "source": [
        "LWS_albums = {\n",
        "  \"Praise Night\":\"https://www.youtube.com/playlist?list=OLAK5uy_mWxMbaj1YgITtoOdpYMR-thHDLsapeH-8\",\n",
        "  \"Healing Songs\":\"https://www.youtube.com/playlist?list=OLAK5uy_neABXq1eq27erjdQF2WEB4VBYrf70SrSg\",\n",
        "  \"You Sit Above the Cherubim\":\"https://www.youtube.com/playlist?list=OLAK5uy_n1oavrvTnF7EafGwwlbhDbScNZzxC7v-M\",\n",
        "  \"Able God\":\"https://www.youtube.com/playlist?list=OLAK5uy_nOifZnhmLWjSxl2Uz8wiijHx53DglSBII\",\n",
        "  \"2023 New Year's Eve\":\"https://www.youtube.com/playlist?list=OLAK5uy_k71xHs7p02IsiH-nQbmnMi94KSCLXXDzE\",\n",
        "  \"Lord over All\":\"https://www.youtube.com/playlist?list=OLAK5uy_mxCx4W00OqAVj_hIUnmhg2hBGVS9A4-Mw\",\n",
        "  \"God of All Comfort\":\"https://www.youtube.com/playlist?list=OLAK5uy_kwnPeM43nkPGrWQ4Ymk5vNq3_3B0cKun8\",\n",
        "  \"You Are the Lord\":\"https://www.youtube.com/playlist?list=OLAK5uy_l9aOLvfRVXYbyQebAMTT1SNHyxpn0svr0\",\n",
        "  \"Unending Praise\":\"https://www.youtube.com/playlist?list=OLAK5uy_nu7Rj0Zgz5YhwVcpOir0m012Rjc3qoMeo\",\n",
        "  \"Mighty is Our King\":\"https://www.youtube.com/playlist?list=OLAK5uy_mLvyht0YYPLq9wMMztdRwq6W9LRBKESvE\",\n",
        "  \"Loveworld New Songs 2022\":\"https://www.youtube.com/playlist?list=PLVOwIn5CIhODvjph9Q12jqsZsF6gwccBD\",\n",
        "  \"Sing A New Song\":\"https://www.youtube.com/playlist?list=PLVOwIn5CIhOCfSqCsc26-L38t-VmwDIVL\",\n",
        "  \"Loveworld Best Songs 2021\":\"https://www.youtube.com/playlist?list=OLAK5uy_lhaRpa5JLR3Fs7P97DBqJ54eSohxDI1hw\"\n",
        "}\n",
        "dummy = {\n",
        "    \"Loveworld New Songs 2022\":\"https://www.youtube.com/playlist?list=PLVOwIn5CIhODvjph9Q12jqsZsF6gwccBD\",\n",
        "    \"Sing A New Song\":\"https://www.youtube.com/playlist?list=PLVOwIn5CIhOCfSqCsc26-L38t-VmwDIVL\",\n",
        "    \"Loveworld Best Songs 2021\":\"https://www.youtube.com/playlist?list=OLAK5uy_lhaRpa5JLR3Fs7P97DBqJ54eSohxDI1hw\"\n",
        "}"
      ],
      "metadata": {
        "id": "pGoLhJ8vhJys"
      },
      "execution_count": 21,
      "outputs": []
    },
    {
      "cell_type": "code",
      "source": [
        "!pip install pytube"
      ],
      "metadata": {
        "id": "XqlITtUJPEy-"
      },
      "execution_count": null,
      "outputs": []
    },
    {
      "cell_type": "code",
      "execution_count": 35,
      "metadata": {
        "id": "HKU9mkEKOdir"
      },
      "outputs": [],
      "source": [
        "from pytube import Playlist\n",
        "import os\n",
        "def down_playlist(pl_url:str,album_name:str,save_dir:str):\n",
        "  # https://www.youtube.com/playlist?list=OLAK5uy_mLvyht0YYPLq9wMMztdRwq6W9LRBKESvE\n",
        "  playlist = Playlist(pl_url)\n",
        "  print('Number of videos in playlist: %s' % len(playlist.video_urls))\n",
        "  save_path = os.path.join(save_dir,album_name) # /content + Mighty is Our King => /content/Mighty is Our King/\n",
        "  for video in playlist.videos:\n",
        "      video.streams.get_highest_resolution().download(output_path=save_path)\n",
        "def down_multi_playlists(pl_list:dict,save_dir:str):\n",
        "  '''pl_list is a dictionary of format { <album_name> : <playlist_url> ... }'''\n",
        "  for album_name,pl_url in pl_list.items():\n",
        "    down_playlist(pl_url=pl_url,album_name=album_name,save_dir=save_dir)"
      ]
    },
    {
      "cell_type": "code",
      "source": [
        "down_multi_playlists(dummy,'Albums') # The download process"
      ],
      "metadata": {
        "colab": {
          "base_uri": "https://localhost:8080/"
        },
        "id": "E-4PTDkFmld2",
        "outputId": "7f9ff597-1a6f-4ba4-b5df-2dc61deb36af"
      },
      "execution_count": 47,
      "outputs": [
        {
          "output_type": "stream",
          "name": "stdout",
          "text": [
            "Loveworld New Songs 2022 Albums\n",
            "Number of videos in playlist: 13\n",
            "Loveworld New Songs 2022 Albums/Loveworld New Songs 2022\n",
            "Sing A New Song Albums\n",
            "Number of videos in playlist: 13\n",
            "Sing A New Song Albums/Sing A New Song\n",
            "Loveworld Best Songs 2021 Albums\n",
            "Number of videos in playlist: 10\n",
            "Loveworld Best Songs 2021 Albums/Loveworld Best Songs 2021\n"
          ]
        }
      ]
    },
    {
      "cell_type": "code",
      "source": [
        "!pip install moviepy # !pip install soundfile"
      ],
      "metadata": {
        "id": "qIyo_mAfTM5U"
      },
      "execution_count": null,
      "outputs": []
    },
    {
      "cell_type": "code",
      "source": [
        "import os\n",
        "from moviepy.editor import *\n",
        "\n",
        "# Set the source and destination directories\n",
        "src_dir = \"/content/Albums\"\n",
        "dst_dir = \"/content/Audios\"\n",
        "\n",
        "# Create the destination directory if it doesn't exist\n",
        "if not os.path.exists(dst_dir):\n",
        "    os.makedirs(dst_dir)\n",
        "\n",
        "# Iterate over the files in the source directory\n",
        "for album in os.listdir(src_dir):\n",
        "  album_src = os.path.join(src_dir, album)\n",
        "  album_dst = os.path.join(dst_dir,album)\n",
        "  for filename in os.listdir(album_src):\n",
        "      # Construct the full path to the video file\n",
        "      video_path = os.path.join(album_src, filename)\n",
        "      # Load the video file\n",
        "      video = VideoFileClip(video_path)\n",
        "      # Extract the audio from the video\n",
        "      audio = video.audio\n",
        "      # Construct the full path to the destination audio file\n",
        "      audio_filename = os.path.splitext(filename)[0] + \".mp3\"\n",
        "      audio_path = os.path.join(album_dst, audio_filename)\n",
        "      # Create the destination directory if it doesn't exist\n",
        "      if not os.path.exists(album_dst):\n",
        "          os.makedirs(album_dst)\n",
        "      # Save the audio to the destination directory\n",
        "      audio.write_audiofile(audio_path)"
      ],
      "metadata": {
        "id": "dRQKPmY8TLoH"
      },
      "execution_count": null,
      "outputs": []
    },
    {
      "cell_type": "code",
      "source": [
        "import soundfile as sf\n",
        "\n",
        "# Set the source and destination directories\n",
        "src_dir = \"/content/Audios\"\n",
        "dst_dir = \"/content/Audios_normal\"\n",
        "\n",
        "# Create the destination directory if it doesn't exist\n",
        "if not os.path.exists(dst_dir):\n",
        "    os.makedirs(dst_dir)\n",
        "\n",
        "# Iterate over the files in the source directory\n",
        "for album in os.listdir(src_dir):\n",
        "  album_src = os.path.join(src_dir, album)\n",
        "  album_dst = os.path.join(dst_dir,album)\n",
        "  for filename in os.listdir(album_src):\n",
        "      # Construct the full path to the video file\n",
        "      video_path = os.path.join(album_src, filename)\n",
        "      # Load the video file\n",
        "      data, samplerate = sf.read(video_path)\n",
        "      \n",
        "      audio_path = os.path.join(album_dst, audio_filename)\n",
        "      # Create the destination directory if it doesn't exist\n",
        "      if not os.path.exists(album_dst):\n",
        "          os.makedirs(album_dst)\n",
        "      # Save the audio to the destination directory\n",
        "      sf.write(audio_path, data, 16000)"
      ],
      "metadata": {
        "id": "jTY4Xo-cW0mw"
      },
      "execution_count": 40,
      "outputs": []
    },
    {
      "cell_type": "code",
      "source": [
        "# Praise Night [14] https://www.youtube.com/playlist?list=OLAK5uy_mWxMbaj1YgITtoOdpYMR-thHDLsapeH-8\n",
        "# Healing Songs [16] https://www.youtube.com/playlist?list=OLAK5uy_neABXq1eq27erjdQF2WEB4VBYrf70SrSg\n",
        "# You Sit Above the Cherubim [17] https://www.youtube.com/playlist?list=OLAK5uy_n1oavrvTnF7EafGwwlbhDbScNZzxC7v-M\n",
        "# Able God [8] https://www.youtube.com/playlist?list=OLAK5uy_nOifZnhmLWjSxl2Uz8wiijHx53DglSBII\n",
        "# 2023 New Year's Eve [9] https://www.youtube.com/playlist?list=OLAK5uy_k71xHs7p02IsiH-nQbmnMi94KSCLXXDzE\n",
        "# Lord over All [22] https://www.youtube.com/playlist?list=OLAK5uy_mxCx4W00OqAVj_hIUnmhg2hBGVS9A4-Mw\n",
        "# God of All Comfort [13] https://www.youtube.com/playlist?list=OLAK5uy_kwnPeM43nkPGrWQ4Ymk5vNq3_3B0cKun8\n",
        "# You Are the Lord [17] https://www.youtube.com/playlist?list=OLAK5uy_l9aOLvfRVXYbyQebAMTT1SNHyxpn0svr0\n",
        "# Unending Praise [19] https://www.youtube.com/playlist?list=OLAK5uy_nu7Rj0Zgz5YhwVcpOir0m012Rjc3qoMeo\n",
        "# Mighty is Our King [19] https://www.youtube.com/playlist?list=OLAK5uy_mLvyht0YYPLq9wMMztdRwq6W9LRBKESvE\n",
        "\n",
        "# Loveworld New Songs 2022 [13] https://www.youtube.com/playlist?list=PLVOwIn5CIhODvjph9Q12jqsZsF6gwccBD\n",
        "# Sing A New Song [13] https://www.youtube.com/playlist?list=PLVOwIn5CIhOCfSqCsc26-L38t-VmwDIVL\n",
        "# Loveworld Best Songs 2021 [10] https://www.youtube.com/playlist?list=OLAK5uy_lhaRpa5JLR3Fs7P97DBqJ54eSohxDI1hw"
      ],
      "metadata": {
        "id": "MqXbH-QzPnK6"
      },
      "execution_count": null,
      "outputs": []
    },
    {
      "cell_type": "code",
      "source": [
        "import shutil\n",
        "source_dir = ['/content/Albums','/content/Audios','/content/Audios_normal']\n",
        "target_dir = '/content/LoveWorld_Singers'\n",
        "\n",
        "if not os.path.exists(target_dir):\n",
        "    os.makedirs(target_dir)\n",
        "\n",
        "for src in source_dir:\n",
        "  shutil.move(src, target_dir)\n",
        "\n",
        "shutil.make_archive('LW_singers', 'zip', target_dir)"
      ],
      "metadata": {
        "id": "VSj3WUoxkEK_"
      },
      "execution_count": null,
      "outputs": []
    },
    {
      "cell_type": "markdown",
      "source": [
        "# Now Either Move To Drive and Download : Way Faster  \n",
        "Or just download from here, by click ` that appear when you hover over the zip file"
      ],
      "metadata": {
        "id": "yeewjMh8xBg-"
      }
    },
    {
      "cell_type": "code",
      "source": [
        "# source_dir = ['/content/Albums','/content/Audios','/content/Audios_normal']\n",
        "# target_dir = '/content/LoveWorld_Singers'\n",
        "# for item in source_dir:\n",
        "#   for album in os.listdir(item):\n",
        "#     shutil.move(os.path.join(item,album), os.path.join(target_dir,item.split('/')[-1]))"
      ],
      "metadata": {
        "id": "-Mx2F6KMl5uz"
      },
      "execution_count": 49,
      "outputs": []
    },
    {
      "cell_type": "code",
      "source": [],
      "metadata": {
        "id": "PKR3A4iRwdg4"
      },
      "execution_count": null,
      "outputs": []
    }
  ]
}